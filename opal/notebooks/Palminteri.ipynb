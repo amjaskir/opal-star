{
 "cells": [
  {
   "cell_type": "markdown",
   "metadata": {},
   "source": [
    "# Palminteri analysis\n",
    "\n",
    "Alana Jaskir <br>\n",
    "Brown University, Providence, RI, USA <br>\n",
    "Laboratory for Neural Computation and Cognition <br>\n",
    "Michael Frank <br>\n",
    "\n",
    "Average learning curves and trial-by-trial visualization of choice and reward and their impact\n",
    "on G and N weights for a specified parameter combination"
   ]
  },
  {
   "cell_type": "code",
   "execution_count": 181,
   "metadata": {},
   "outputs": [],
   "source": [
    "import numpy as np\n",
    "import scipy.stats as stats\n",
    "import matplotlib.pyplot as plt\n",
    "import random\n",
    "import importlib\n",
    "from sklearn import metrics\n",
    "import pickle\n",
    "\n",
    "import os\n",
    "import sys\n",
    "sys.path.insert(1, os.path.join(sys.path[0], '..'))\n"
   ]
  },
  {
   "cell_type": "code",
   "execution_count": 182,
   "metadata": {},
   "outputs": [],
   "source": [
    "# my models\n",
    "import opal\n",
    "from opal import OpAL\n",
    "import palminteri\n",
    "from scipy.stats import beta as beta_rv"
   ]
  },
  {
   "cell_type": "code",
   "execution_count": 183,
   "metadata": {},
   "outputs": [
    {
     "data": {
      "text/plain": [
       "<module 'opal' from '/Users/ajaskir/Desktop/FYP/opal/notebooks/../opal.py'>"
      ]
     },
     "execution_count": 183,
     "metadata": {},
     "output_type": "execute_result"
    }
   ],
   "source": [
    "importlib.reload(palminteri)\n",
    "importlib.reload(opal)"
   ]
  },
  {
   "cell_type": "code",
   "execution_count": 184,
   "metadata": {},
   "outputs": [],
   "source": [
    "# initialize\n",
    "params = (.1,.06,7) # alpha_c, alpha_a, beta, alpha_c > alpha_a\n",
    "n_subjs = 28 \n",
    "\n",
    "v0=0\n",
    "crit=\"S-ctx\"\n",
    "\n",
    "# DA mod?\n",
    "mod = \"constant\"\n",
    "\n",
    "# any other bells and whistles"
   ]
  },
  {
   "cell_type": "code",
   "execution_count": 185,
   "metadata": {},
   "outputs": [],
   "source": [
    "states = palminteri.simulate(params,n_subjs,v0=v0,crit=crit,mod=mod,hebb=True, anneal=True, use_var=True)\n"
   ]
  },
  {
   "cell_type": "code",
   "execution_count": 186,
   "metadata": {},
   "outputs": [],
   "source": [
    "# plot average choice rate\n",
    "all_choicerates = []\n",
    "\n",
    "first = True\n",
    "for state in states:\n",
    "    all_choicerates\n",
    "    if first:\n",
    "        all_choicerates = state.choice_rate\n",
    "        first = False\n",
    "    else:\n",
    "        all_choicerates = np.vstack([state.choice_rate,all_choicerates])\n",
    "\n",
    "avg_CR = np.mean(all_choicerates, axis = 0)\n",
    "sem_CR = stats.sem(all_choicerates, axis = 0)"
   ]
  },
  {
   "cell_type": "code",
   "execution_count": 187,
   "metadata": {},
   "outputs": [],
   "source": [
    "# states[0].V # sanity check critic"
   ]
  },
  {
   "cell_type": "code",
   "execution_count": 188,
   "metadata": {},
   "outputs": [],
   "source": [
    "# for i in range(96):\n",
    "#     print(states[0].ctx_order[i], states[0].C_in_ctx[i],states[0].PE[i])"
   ]
  },
  {
   "cell_type": "code",
   "execution_count": 189,
   "metadata": {},
   "outputs": [
    {
     "name": "stderr",
     "output_type": "stream",
     "text": [
      "/var/folders/x1/w7n6h7cn2z17zbtntm879lcw0000gp/T/ipykernel_79339/323477008.py:10: UserWarning: FixedFormatter should only be used together with FixedLocator\n",
      "  ax_partial.set_xticklabels([\"\",\"G$_{75}$\",\"G$_{25}$\",\"L$_{25}$\",\"L$_{75}$\"])\n",
      "/var/folders/x1/w7n6h7cn2z17zbtntm879lcw0000gp/T/ipykernel_79339/323477008.py:17: UserWarning: FixedFormatter should only be used together with FixedLocator\n",
      "  ax_full.set_xticklabels([\"\",\"G$_{75}$\",\"G$_{25}$\",\"L$_{25}$\",\"L$_{75}$\"])\n"
     ]
    },
    {
     "data": {
      "text/plain": [
       "[Text(-1.0, 0, ''),\n",
       " Text(0.0, 0, 'G$_{75}$'),\n",
       " Text(1.0, 0, 'G$_{25}$'),\n",
       " Text(2.0, 0, 'L$_{25}$'),\n",
       " Text(3.0, 0, 'L$_{75}$'),\n",
       " Text(4.0, 0, '')]"
      ]
     },
     "execution_count": 189,
     "metadata": {},
     "output_type": "execute_result"
    },
    {
     "data": {
      "image/png": "[encoded data removed]",
      "text/plain": [
       "<Figure size 432x288 with 2 Axes>"
      ]
     },
     "metadata": {
      "needs_background": "light"
     },
     "output_type": "display_data"
    }
   ],
   "source": [
    "# plot the things\n",
    "xaxis = np.arange(0,4)\n",
    "\n",
    "partial_subset = [2,3,6,7]\n",
    "ax_partial = plt.subplot(121)\n",
    "ax_partial.set_title(\"Partial information\")\n",
    "ax_partial.set_ylabel(\"Post-learning choice rate\")\n",
    "ax_partial.bar(xaxis,avg_CR[partial_subset],yerr = sem_CR[partial_subset], color=[\"green\", \"green\", \"maroon\", \"maroon\"])\n",
    "ax_partial.set_ylim([0,1])\n",
    "ax_partial.set_xticklabels([\"\",\"G$_{75}$\",\"G$_{25}$\",\"L$_{25}$\",\"L$_{75}$\"])\n",
    "\n",
    "full_subset = [0,1,4,5]\n",
    "ax_full = plt.subplot(122)\n",
    "ax_full.set_title(\"Complete information\")\n",
    "ax_full.bar(xaxis,avg_CR[full_subset],yerr = sem_CR[full_subset], color=[\"teal\", \"teal\", \"purple\", \"purple\"])\n",
    "ax_full.set_ylim([0,1])\n",
    "ax_full.set_xticklabels([\"\",\"G$_{75}$\",\"G$_{25}$\",\"L$_{25}$\",\"L$_{75}$\"])\n"
   ]
  },
  {
   "cell_type": "markdown",
   "metadata": {},
   "source": [
    "### various first pass analysis"
   ]
  },
  {
   "cell_type": "code",
   "execution_count": 190,
   "metadata": {},
   "outputs": [],
   "source": [
    "ctx_dict = {0: np.array([0,1]),\n",
    "\t\t\t\t1: np.array([2,3]),\n",
    "\t\t\t\t2: np.array([4,5]),\n",
    "\t\t\t\t3: np.array([6,7])}"
   ]
  },
  {
   "cell_type": "code",
   "execution_count": 191,
   "metadata": {},
   "outputs": [],
   "source": [
    "subset_act = [row[ctx_dict[states[0].ctx_order[idx]]]for idx,row in enumerate(states[0].Act[0:96])]\n",
    "subset_sm = [row[ctx_dict[states[0].ctx_order[idx]]]for idx,row in enumerate(states[0].SM[0:96])]\n",
    "subset_Gs = [row[ctx_dict[states[0].ctx_order[idx]]]for idx,row in enumerate(states[0].QG[0:96])]\n",
    "subset_Ns = [row[ctx_dict[states[0].ctx_order[idx]]]for idx,row in enumerate(states[0].QN[0:96])]"
   ]
  },
  {
   "cell_type": "code",
   "execution_count": 192,
   "metadata": {},
   "outputs": [
    {
     "data": {
      "text/plain": [
       "array([[ 0.        ,  0.        ,  0.        ,  0.        ],\n",
       "       [ 0.        ,  0.05      ,  0.        ,  0.        ],\n",
       "       [ 0.        ,  0.05      , -0.05      ,  0.        ],\n",
       "       [ 0.        ,  0.05      , -0.045     ,  0.        ],\n",
       "       [ 0.        ,  0.05      , -0.045     , -0.05      ],\n",
       "       [ 0.        ,  0.05      , -0.045     , -0.095     ],\n",
       "       [ 0.05      ,  0.05      , -0.045     , -0.095     ],\n",
       "       [ 0.05      ,  0.05      , -0.045     , -0.0855    ],\n",
       "       [ 0.05      ,  0.05      , -0.045     , -0.07695   ],\n",
       "       [ 0.05      ,  0.045     , -0.045     , -0.07695   ],\n",
       "       [ 0.05      ,  0.0405    , -0.045     , -0.07695   ],\n",
       "       [ 0.045     ,  0.0405    , -0.045     , -0.07695   ],\n",
       "       [ 0.0905    ,  0.0405    , -0.045     , -0.07695   ],\n",
       "       [ 0.0905    ,  0.08645   , -0.045     , -0.07695   ],\n",
       "       [ 0.0905    ,  0.077805  , -0.045     , -0.07695   ],\n",
       "       [ 0.0905    ,  0.077805  , -0.0905    , -0.07695   ],\n",
       "       [ 0.0905    ,  0.1200245 , -0.0905    , -0.07695   ],\n",
       "       [ 0.0905    ,  0.1200245 , -0.0905    , -0.119255  ],\n",
       "       [ 0.13145   ,  0.1200245 , -0.0905    , -0.119255  ],\n",
       "       [ 0.168305  ,  0.1200245 , -0.0905    , -0.119255  ],\n",
       "       [ 0.168305  ,  0.15802205, -0.0905    , -0.119255  ],\n",
       "       [ 0.168305  ,  0.19221985, -0.0905    , -0.119255  ],\n",
       "       [ 0.168305  ,  0.22299786, -0.0905    , -0.119255  ],\n",
       "       [ 0.168305  ,  0.22299786, -0.0905    , -0.1573295 ],\n",
       "       [ 0.168305  ,  0.25069807, -0.0905    , -0.1573295 ],\n",
       "       [ 0.168305  ,  0.25069807, -0.0905    , -0.19159655],\n",
       "       [ 0.2014745 ,  0.25069807, -0.0905    , -0.19159655],\n",
       "       [ 0.23132705,  0.25069807, -0.0905    , -0.19159655],\n",
       "       [ 0.23132705,  0.27562827, -0.0905    , -0.19159655],\n",
       "       [ 0.23132705,  0.27562827, -0.0905    , -0.2224369 ],\n",
       "       [ 0.25819434,  0.27562827, -0.0905    , -0.2224369 ],\n",
       "       [ 0.25819434,  0.27562827, -0.0905    , -0.20019321],\n",
       "       [ 0.25819434,  0.27562827, -0.13145   , -0.20019321],\n",
       "       [ 0.23237491,  0.27562827, -0.13145   , -0.20019321],\n",
       "       [ 0.23237491,  0.27562827, -0.13145   , -0.18017388],\n",
       "       [ 0.20913742,  0.27562827, -0.13145   , -0.18017388],\n",
       "       [ 0.18822368,  0.27562827, -0.13145   , -0.18017388],\n",
       "       [ 0.21940131,  0.27562827, -0.13145   , -0.18017388],\n",
       "       [ 0.21940131,  0.24806544, -0.13145   , -0.18017388],\n",
       "       [ 0.21940131,  0.24806544, -0.168305  , -0.18017388],\n",
       "       [ 0.21940131,  0.2232589 , -0.168305  , -0.18017388],\n",
       "       [ 0.21940131,  0.2232589 , -0.1514745 , -0.18017388],\n",
       "       [ 0.21940131,  0.2232589 , -0.1514745 , -0.2121565 ],\n",
       "       [ 0.21940131,  0.2232589 , -0.1514745 , -0.19094085],\n",
       "       [ 0.21940131,  0.2232589 , -0.18632705, -0.19094085],\n",
       "       [ 0.21940131,  0.2232589 , -0.16769435, -0.19094085],\n",
       "       [ 0.21940131,  0.2232589 , -0.20092491, -0.19094085],\n",
       "       [ 0.19746118,  0.2232589 , -0.20092491, -0.19094085],\n",
       "       [ 0.19746118,  0.2232589 , -0.20092491, -0.22184676],\n",
       "       [ 0.19746118,  0.2232589 , -0.20092491, -0.19966209],\n",
       "       [ 0.19746118,  0.2232589 , -0.23083242, -0.19966209],\n",
       "       [ 0.17771506,  0.2232589 , -0.23083242, -0.19966209],\n",
       "       [ 0.17771506,  0.2232589 , -0.20774918, -0.19966209],\n",
       "       [ 0.17771506,  0.2232589 , -0.18697426, -0.19966209],\n",
       "       [ 0.17771506,  0.2232589 , -0.18697426, -0.22969588],\n",
       "       [ 0.17771506,  0.2232589 , -0.18697426, -0.20672629],\n",
       "       [ 0.17771506,  0.2232589 , -0.18697426, -0.18605366],\n",
       "       [ 0.20994355,  0.2232589 , -0.18697426, -0.18605366],\n",
       "       [ 0.20994355,  0.2232589 , -0.21827683, -0.18605366],\n",
       "       [ 0.20994355,  0.2232589 , -0.21827683, -0.16744829],\n",
       "       [ 0.20994355,  0.2232589 , -0.24644915, -0.16744829],\n",
       "       [ 0.2389492 ,  0.2232589 , -0.24644915, -0.16744829],\n",
       "       [ 0.2389492 ,  0.2232589 , -0.27180424, -0.16744829],\n",
       "       [ 0.21505428,  0.2232589 , -0.27180424, -0.16744829],\n",
       "       [ 0.21505428,  0.2232589 , -0.27180424, -0.15070347],\n",
       "       [ 0.21505428,  0.25093301, -0.27180424, -0.15070347],\n",
       "       [ 0.21505428,  0.27583971, -0.27180424, -0.15070347],\n",
       "       [ 0.19354885,  0.27583971, -0.27180424, -0.15070347],\n",
       "       [ 0.19354885,  0.27583971, -0.29462381, -0.15070347],\n",
       "       [ 0.19354885,  0.27583971, -0.26516143, -0.15070347],\n",
       "       [ 0.17419397,  0.27583971, -0.26516143, -0.15070347],\n",
       "       [ 0.17419397,  0.27583971, -0.23864529, -0.15070347],\n",
       "       [ 0.17419397,  0.27583971, -0.23864529, -0.13563312],\n",
       "       [ 0.17419397,  0.24825574, -0.23864529, -0.13563312],\n",
       "       [ 0.15677457,  0.24825574, -0.23864529, -0.13563312],\n",
       "       [ 0.14109711,  0.24825574, -0.23864529, -0.13563312],\n",
       "       [ 0.14109711,  0.24825574, -0.23864529, -0.12206981],\n",
       "       [ 0.14109711,  0.24825574, -0.26478076, -0.12206981],\n",
       "       [ 0.14109711,  0.24825574, -0.26478076, -0.15986283],\n",
       "       [ 0.14109711,  0.22343016, -0.26478076, -0.15986283],\n",
       "       [ 0.14109711,  0.20108715, -0.26478076, -0.15986283],\n",
       "       [ 0.14109711,  0.23097843, -0.26478076, -0.15986283],\n",
       "       [ 0.14109711,  0.25788059, -0.26478076, -0.15986283],\n",
       "       [ 0.1769874 ,  0.25788059, -0.26478076, -0.15986283],\n",
       "       [ 0.1769874 ,  0.25788059, -0.26478076, -0.14387654],\n",
       "       [ 0.1769874 ,  0.25788059, -0.28830268, -0.14387654],\n",
       "       [ 0.1769874 ,  0.28209253, -0.28830268, -0.14387654],\n",
       "       [ 0.1769874 ,  0.28209253, -0.30947241, -0.14387654],\n",
       "       [ 0.15928866,  0.28209253, -0.30947241, -0.14387654],\n",
       "       [ 0.1933598 ,  0.28209253, -0.30947241, -0.14387654],\n",
       "       [ 0.1933598 ,  0.28209253, -0.30947241, -0.17948889],\n",
       "       [ 0.1933598 ,  0.28209253, -0.32852517, -0.17948889],\n",
       "       [ 0.1933598 ,  0.30388328, -0.32852517, -0.17948889],\n",
       "       [ 0.1933598 ,  0.30388328, -0.34567266, -0.17948889],\n",
       "       [ 0.1933598 ,  0.32349495, -0.34567266, -0.17948889],\n",
       "       [ 0.1933598 ,  0.32349495, -0.31110539, -0.17948889],\n",
       "       [ 0.1933598 ,  0.34114545, -0.31110539, -0.17948889],\n",
       "       [ 0.        ,  0.        ,  0.        ,  0.        ]])"
      ]
     },
     "execution_count": 192,
     "metadata": {},
     "output_type": "execute_result"
    }
   ],
   "source": [
    "states[0].V"
   ]
  }
 ],
 "metadata": {
  "interpreter": {
   "hash": "0cc90482dd34c89ce27ca2ed9d4ff29c183d989b848ed491743a99eb445f49b4"
  },
  "kernelspec": {
   "display_name": "Python 3.10.4 ('opal')",
   "language": "python",
   "name": "python3"
  },
  "language_info": {
   "codemirror_mode": {
    "name": "ipython",
    "version": 3
   },
   "file_extension": ".py",
   "mimetype": "text/x-python",
   "name": "python",
   "nbconvert_exporter": "python",
   "pygments_lexer": "ipython3",
   "version": "3.10.5"
  }
 },
 "nbformat": 4,
 "nbformat_minor": 2
}

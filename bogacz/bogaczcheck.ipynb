{
 "cells": [
  {
   "cell_type": "markdown",
   "metadata": {},
   "source": [
    "# Moller and Bogacz replication (Figure 3)\n",
    "\n",
    "Lise VANSTEENKISTE   <br>\n",
    "Edited by Alana Jaskir   <br>\n",
    "Laboratory for Neural Computation and Cognition  <br>\n",
    "PI: Michael Frank "
   ]
  },
  {
   "cell_type": "code",
   "execution_count": 1,
   "metadata": {},
   "outputs": [],
   "source": [
    "import numpy as np\n",
    "import matplotlib.pyplot as plt\n",
    "from bogacz import Bogacz\n",
    "import dynamics_bogacz"
   ]
  },
  {
   "cell_type": "code",
   "execution_count": 2,
   "metadata": {},
   "outputs": [],
   "source": [
    "nTrials = 30 \n",
    "alpha_a = 0.3     # by playing with these, this model seems very sensitive to small parameters changes\n",
    "epsilon=0.443\n",
    "lbda= 0.093\n",
    "state = dynamics_bogacz.simulate_bogacz(nTrials,alpha_a, epsilon, lbda)"
   ]
  },
  {
   "cell_type": "code",
   "execution_count": 3,
   "metadata": {},
   "outputs": [
    {
     "data": {
      "text/plain": [
       "(-30.0, 30.0)"
      ]
     },
     "execution_count": 3,
     "metadata": {},
     "output_type": "execute_result"
    },
    {
     "data": {
      "image/png": "[encoded data removed]",
      "text/plain": [
       "<Figure size 504x360 with 1 Axes>"
      ]
     },
     "metadata": {
      "needs_background": "light"
     },
     "output_type": "display_data"
    }
   ],
   "source": [
    "xaxis = np.arange(0,nTrials+1)\n",
    "fig, ax = plt.subplots(figsize=(7, 5))\n",
    "ax.step(xaxis,state.QG[:,0],color = \"green\")\n",
    "ax.step(xaxis,-1*state.QN[:,0],color = \"red\")\n",
    "plt.xlabel(\"Number of Trial\")\n",
    "plt.ylabel(\"Outcome\")\n",
    "plt.ylim([-30,30])"
   ]
  },
  {
   "cell_type": "code",
   "execution_count": 4,
   "metadata": {},
   "outputs": [],
   "source": [
    "nTrials = 30\n",
    "alpha_a = 0.3\n",
    "epsilon=0.0\n",
    "lbda= 0.0\n",
    "state = dynamics_bogacz.simulate_bogacz(nTrials,alpha_a,epsilon,lbda)"
   ]
  },
  {
   "cell_type": "code",
   "execution_count": 5,
   "metadata": {},
   "outputs": [
    {
     "data": {
      "text/plain": [
       "(-30.0, 40.0)"
      ]
     },
     "execution_count": 5,
     "metadata": {},
     "output_type": "execute_result"
    },
    {
     "data": {
      "image/png": "[encoded data removed]",
      "text/plain": [
       "<Figure size 504x360 with 1 Axes>"
      ]
     },
     "metadata": {
      "needs_background": "light"
     },
     "output_type": "display_data"
    }
   ],
   "source": [
    "xaxis = np.arange(0,nTrials+1)\n",
    "fig, ax =  plt.subplots(figsize=(7, 5))\n",
    "ax.step(xaxis,state.QG[:,0],color = \"green\")\n",
    "ax.step(xaxis,-1*state.QN[:,0],color = \"red\")\n",
    "plt.xlabel(\"Number of Trial\")\n",
    "plt.ylabel(\"Outcome\")\n",
    "plt.ylim([-30,40])"
   ]
  },
  {
   "cell_type": "code",
   "execution_count": 6,
   "metadata": {},
   "outputs": [],
   "source": [
    "nTrials = 30\n",
    "alpha_a = 0.3\n",
    "epsilon=0.0\n",
    "lbda= 0.0\n",
    "state = dynamics_bogacz.simulate_bogacz(nTrials,alpha_a,epsilon,lbda, full = False)"
   ]
  },
  {
   "cell_type": "code",
   "execution_count": 7,
   "metadata": {},
   "outputs": [
    {
     "data": {
      "text/plain": [
       "(-30.0, 30.0)"
      ]
     },
     "execution_count": 7,
     "metadata": {},
     "output_type": "execute_result"
    },
    {
     "data": {
      "image/png": "[encoded data removed]",
      "text/plain": [
       "<Figure size 504x360 with 1 Axes>"
      ]
     },
     "metadata": {
      "needs_background": "light"
     },
     "output_type": "display_data"
    }
   ],
   "source": [
    "xaxis = np.arange(0,nTrials+1)\n",
    "fig, ax =  plt.subplots(figsize=(7, 5))\n",
    "ax.step(xaxis,state.QG[:,0],color = \"green\")\n",
    "ax.step(xaxis,-1*state.QN[:,0],color = \"red\")\n",
    "plt.xlabel(\"Number of Trial\")\n",
    "plt.ylabel(\"Outcome\")\n",
    "plt.ylim([-30,30])"
   ]
  },
  {
   "cell_type": "code",
   "execution_count": null,
   "metadata": {},
   "outputs": [],
   "source": []
  },
  {
   "cell_type": "code",
   "execution_count": null,
   "metadata": {},
   "outputs": [],
   "source": []
  }
 ],
 "metadata": {
  "kernelspec": {
   "display_name": "Python 3.10.5 ('opal')",
   "language": "python",
   "name": "python3"
  },
  "language_info": {
   "codemirror_mode": {
    "name": "ipython",
    "version": 3
   },
   "file_extension": ".py",
   "mimetype": "text/x-python",
   "name": "python",
   "nbconvert_exporter": "python",
   "pygments_lexer": "ipython3",
   "version": "3.10.5"
  },
  "vscode": {
   "interpreter": {
    "hash": "0cc90482dd34c89ce27ca2ed9d4ff29c183d989b848ed491743a99eb445f49b4"
   }
  }
 },
 "nbformat": 4,
 "nbformat_minor": 2
}
